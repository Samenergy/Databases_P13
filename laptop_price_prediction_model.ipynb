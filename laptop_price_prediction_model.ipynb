{
  "cells": [
    {
      "cell_type": "markdown",
      "metadata": {
        "colab_type": "text",
        "id": "view-in-github"
      },
      "source": [
        "<a href=\"https://colab.research.google.com/github/Samenergy/Databases_P13/blob/main/laptop_price_prediction_model.ipynb\" target=\"_parent\"><img src=\"https://colab.research.google.com/assets/colab-badge.svg\" alt=\"Open In Colab\"/></a>"
      ]
    },
    {
      "cell_type": "code",
      "execution_count": 1,
      "metadata": {
        "id": "myp5bCh3DQHt"
      },
      "outputs": [
        {
          "ename": "ModuleNotFoundError",
          "evalue": "No module named 'requests'",
          "output_type": "error",
          "traceback": [
            "\u001b[31m---------------------------------------------------------------------------\u001b[39m",
            "\u001b[31mModuleNotFoundError\u001b[39m                       Traceback (most recent call last)",
            "\u001b[36mCell\u001b[39m\u001b[36m \u001b[39m\u001b[32mIn[1]\u001b[39m\u001b[32m, line 1\u001b[39m\n\u001b[32m----> \u001b[39m\u001b[32m1\u001b[39m \u001b[38;5;28;01mimport\u001b[39;00m\u001b[38;5;250m \u001b[39m\u001b[34;01mrequests\u001b[39;00m\n\u001b[32m      2\u001b[39m \u001b[38;5;28;01mimport\u001b[39;00m\u001b[38;5;250m \u001b[39m\u001b[34;01mpandas\u001b[39;00m\u001b[38;5;250m \u001b[39m\u001b[38;5;28;01mas\u001b[39;00m\u001b[38;5;250m \u001b[39m\u001b[34;01mpd\u001b[39;00m\n\u001b[32m      3\u001b[39m \u001b[38;5;28;01mimport\u001b[39;00m\u001b[38;5;250m \u001b[39m\u001b[34;01mjoblib\u001b[39;00m  \u001b[38;5;66;03m# To load the trained model\u001b[39;00m\n",
            "\u001b[31mModuleNotFoundError\u001b[39m: No module named 'requests'"
          ]
        }
      ],
      "source": [
        "import requests\n",
        "import pandas as pd\n",
        "import joblib  # To load the trained model\n",
        "from sklearn.preprocessing import StandardScaler"
      ]
    },
    {
      "cell_type": "code",
      "execution_count": null,
      "metadata": {
        "id": "E9r5xDuFPSU5"
      },
      "outputs": [],
      "source": [
        "def fetch_latest_laptop():\n",
        "    \"\"\"Fetches the latest laptop data from an API.\"\"\"\n",
        "    api_url = \"https://api.example.com/latest-laptop\"  # Replace with actual API URL\n",
        "    response = requests.get(api_url)\n",
        "    if response.status_code == 200:\n",
        "        return response.json()\n",
        "    else:\n",
        "        raise Exception(\"Failed to fetch data from API\")"
      ]
    },
    {
      "cell_type": "code",
      "execution_count": null,
      "metadata": {
        "id": "zdmYrhp0Pdoq"
      },
      "outputs": [],
      "source": [
        "def preprocess_laptop_data(raw_data, scaler):\n",
        "    \"\"\"Prepares the latest laptop data for price prediction.\"\"\"\n",
        "    df = pd.DataFrame([raw_data])\n",
        "\n",
        "    # Feature Engineering\n",
        "    processor_mapping = {'Intel i3': 1, 'Intel i5': 2, 'Intel i7': 3, 'Intel i9': 4,\n",
        "                         'AMD Ryzen 3': 1, 'AMD Ryzen 5': 2, 'AMD Ryzen 7': 3, 'AMD Ryzen 9': 4}\n",
        "    df['Processor'] = df['Processor'].map(processor_mapping)\n",
        "\n",
        "    df['Storage (GB)'] = df['Storage'].apply(lambda x: int(x.replace('GB SSD', '').replace('TB SSD', '')) * (1000 if 'TB' in x else 1))\n",
        "\n",
        "    gpu_mapping = {'Integrated': 0, 'Nvidia GTX 1650': 1, 'Nvidia RTX 2060': 2, 'Nvidia RTX 3060': 2, 'Nvidia RTX 3080': 3,\n",
        "                   'AMD Radeon RX 6600': 2, 'AMD Radeon RX 6800': 3}\n",
        "    df['GPU'] = df['GPU'].map(gpu_mapping)\n",
        "\n",
        "    df['Resolution'] = df['Resolution'].apply(lambda res: int(res.split('x')[0]) * int(res.split('x')[1]))\n",
        "\n",
        "    os_mapping = {'Windows': 3, 'macOS': 2, 'Linux': 1, 'FreeDOS': 0}\n",
        "    df['Operating System'] = df['Operating System'].map(os_mapping)\n",
        "\n",
        "    # One-hot encode 'Brand' (assuming the model was trained with one-hot encoding)\n",
        "    brands = ['Apple', 'Asus', 'Dell', 'HP', 'Lenovo', 'MSI', 'Microsoft', 'Razer', 'Samsung']\n",
        "    for brand in brands:\n",
        "        df[f'Brand_{brand}'] = 1 if raw_data['Brand'] == brand else 0\n",
        "\n",
        "    # Standardize numeric features\n",
        "    df.iloc[:, :7] = scaler.transform(df.iloc[:, :7])\n",
        "\n",
        "    return df"
      ]
    },
    {
      "cell_type": "code",
      "execution_count": null,
      "metadata": {
        "id": "bRGUnoKSPizD"
      },
      "outputs": [],
      "source": [
        "def predict_laptop_price():\n",
        "    \"\"\"Fetch latest laptop data, preprocess it, and predict the price.\"\"\"\n",
        "    raw_data = fetch_latest_laptop()\n",
        "\n",
        "    # Load trained model & scaler\n",
        "    model = joblib.load(\"laptop_price_model.pkl\")  # Replace with actual model path\n",
        "    scaler = joblib.load(\"scaler.pkl\")  # Replace with actual scaler path\n",
        "\n",
        "    processed_data = preprocess_laptop_data(raw_data, scaler)\n",
        "\n",
        "    # Predict price\n",
        "    predicted_price = model.predict(processed_data)[0]\n",
        "\n",
        "    print(f\"Predicted Laptop Price: ${predicted_price:.2f}\")\n",
        "\n",
        "# Run prediction script\n",
        "if __name__ == \"__main__\":\n",
        "    predict_laptop_price()\n"
      ]
    }
  ],
  "metadata": {
    "colab": {
      "authorship_tag": "ABX9TyNdussLJ1YIh0pmR3xBbkoG",
      "include_colab_link": true,
      "provenance": []
    },
    "kernelspec": {
      "display_name": ".venv",
      "language": "python",
      "name": "python3"
    },
    "language_info": {
      "codemirror_mode": {
        "name": "ipython",
        "version": 3
      },
      "file_extension": ".py",
      "mimetype": "text/x-python",
      "name": "python",
      "nbconvert_exporter": "python",
      "pygments_lexer": "ipython3",
      "version": "3.12.6"
    }
  },
  "nbformat": 4,
  "nbformat_minor": 0
}
